{
 "cells": [
  {
   "cell_type": "code",
   "execution_count": 28,
   "id": "8da48073",
   "metadata": {},
   "outputs": [],
   "source": [
    "# Testing the efficiency of PCA in noise reduction using Artificial Neural Networks"
   ]
  },
  {
   "cell_type": "code",
   "execution_count": 29,
   "id": "2a34a96c",
   "metadata": {},
   "outputs": [],
   "source": [
    "import numpy as np\n",
    "from sklearn.decomposition import PCA\n",
    "import tensorflow as tf\n",
    "from tensorflow import keras\n",
    "from tensorflow.keras.layers import Dense, Input\n",
    "from matplotlib import pyplot as plt"
   ]
  },
  {
   "cell_type": "code",
   "execution_count": 30,
   "id": "b73440aa",
   "metadata": {},
   "outputs": [],
   "source": [
    "def func1(arr):\n",
    "    # function being deployed: f(x,y,z,...) = sqrt(2 * (x^4 + y^4 + z^4...))\n",
    "    ans = 0\n",
    "    for i in range(arr.shape[0]):\n",
    "        ans += arr[i]**4\n",
    "    return np.sqrt(ans * 2)\n",
    "\n",
    "def noisifyData(cleanData, noiseRange):\n",
    "    noiseAdded = np.random.rand(*cleanData.shape)\n",
    "    noiseAdded = noiseAdded*2 - 1\n",
    "    noiseAdded = noiseAdded * noiseRange\n",
    "    return cleanData + noiseAdded"
   ]
  },
  {
   "cell_type": "code",
   "execution_count": null,
   "id": "e53b0d14",
   "metadata": {},
   "outputs": [],
   "source": []
  },
  {
   "cell_type": "code",
   "execution_count": 31,
   "id": "cc96cf48",
   "metadata": {},
   "outputs": [],
   "source": [
    "# a = np.random.rand(5,4)\n",
    "# b = np.random.rand(4)\n",
    "# print(a)\n",
    "# print(b)\n",
    "# print(a*b)"
   ]
  },
  {
   "cell_type": "code",
   "execution_count": 32,
   "id": "122c0b89",
   "metadata": {},
   "outputs": [],
   "source": [
    "data = np.random.rand(20000,5)"
   ]
  },
  {
   "cell_type": "code",
   "execution_count": 33,
   "id": "a54a7400",
   "metadata": {},
   "outputs": [
    {
     "data": {
      "text/plain": [
       "array([[0.811178  , 0.61649011, 0.29267977, 0.06802061, 0.01263808],\n",
       "       [0.74104743, 0.02546852, 0.23771048, 0.72252155, 0.20196171],\n",
       "       [0.93287756, 0.02522082, 0.61838285, 0.99274378, 0.24647663],\n",
       "       ...,\n",
       "       [0.33243435, 0.91251592, 0.37813229, 0.14679567, 0.26486621],\n",
       "       [0.83950968, 0.96755668, 0.97353183, 0.21057931, 0.67059952],\n",
       "       [0.78530854, 0.19332585, 0.57691519, 0.60872021, 0.27429843]])"
      ]
     },
     "execution_count": 33,
     "metadata": {},
     "output_type": "execute_result"
    }
   ],
   "source": [
    "data"
   ]
  },
  {
   "cell_type": "code",
   "execution_count": 34,
   "id": "a537c523",
   "metadata": {},
   "outputs": [
    {
     "data": {
      "text/plain": [
       "array([0.4988503 , 0.50006875, 0.49772546, 0.49905736, 0.49770632])"
      ]
     },
     "execution_count": 34,
     "metadata": {},
     "output_type": "execute_result"
    }
   ],
   "source": [
    "data.mean(axis = 0)"
   ]
  },
  {
   "cell_type": "code",
   "execution_count": 35,
   "id": "9c1fbea1",
   "metadata": {},
   "outputs": [],
   "source": [
    "# func1(data[0])"
   ]
  },
  {
   "cell_type": "code",
   "execution_count": 36,
   "id": "cc2bae33",
   "metadata": {},
   "outputs": [],
   "source": [
    "y = np.random.rand(data.shape[0])\n",
    "for i in range(data.shape[0]):\n",
    "    y[i] = func1(data[i])\n"
   ]
  },
  {
   "cell_type": "code",
   "execution_count": 37,
   "id": "32e305d6",
   "metadata": {},
   "outputs": [],
   "source": [
    "noise = [0.1,0.2,0.1,0.15,0.1]\n",
    "\n",
    "noisyData = np.array(data, copy = True)\n",
    "\n",
    "noisyData = noisifyData(noisyData, noise)"
   ]
  },
  {
   "cell_type": "code",
   "execution_count": 38,
   "id": "528f2ed1",
   "metadata": {},
   "outputs": [
    {
     "data": {
      "text/plain": [
       "(20000, 5)"
      ]
     },
     "execution_count": 38,
     "metadata": {},
     "output_type": "execute_result"
    }
   ],
   "source": [
    "noisyData.shape"
   ]
  },
  {
   "cell_type": "code",
   "execution_count": 39,
   "id": "eb7dd3da",
   "metadata": {},
   "outputs": [
    {
     "data": {
      "text/plain": [
       "array([0.49890634, 0.49921182, 0.49757306, 0.49924163, 0.4972441 ])"
      ]
     },
     "execution_count": 39,
     "metadata": {},
     "output_type": "execute_result"
    }
   ],
   "source": [
    "noisyData.mean(axis = 0)"
   ]
  },
  {
   "cell_type": "code",
   "execution_count": 40,
   "id": "77146713",
   "metadata": {},
   "outputs": [
    {
     "data": {
      "text/plain": [
       "array([0.28812418, 0.28948125, 0.28916731, 0.29126248, 0.2884733 ])"
      ]
     },
     "execution_count": 40,
     "metadata": {},
     "output_type": "execute_result"
    }
   ],
   "source": [
    "np.std(data, axis = 0)"
   ]
  },
  {
   "cell_type": "code",
   "execution_count": 41,
   "id": "03533f6b",
   "metadata": {},
   "outputs": [
    {
     "data": {
      "text/plain": [
       "array([0.2934305 , 0.31163868, 0.29556281, 0.30365417, 0.29455816])"
      ]
     },
     "execution_count": 41,
     "metadata": {},
     "output_type": "execute_result"
    }
   ],
   "source": [
    "np.std(noisyData, axis = 0)"
   ]
  },
  {
   "cell_type": "code",
   "execution_count": 42,
   "id": "ca008ae1",
   "metadata": {},
   "outputs": [],
   "source": [
    "noisyY = np.random.rand(noisyData.shape[0])\n",
    "for i in range(noisyData.shape[0]):\n",
    "    noisyY[i] = func1(noisyData[i])\n"
   ]
  },
  {
   "cell_type": "code",
   "execution_count": 43,
   "id": "5e3792fa",
   "metadata": {},
   "outputs": [
    {
     "name": "stdout",
     "output_type": "stream",
     "text": [
      "[ 0.11249564 -0.07997417  0.21928494 ... -0.46621081 -0.30431108\n",
      " -0.2044702 ]\n"
     ]
    }
   ],
   "source": [
    "diff = y-noisyY\n",
    "print(diff)"
   ]
  },
  {
   "cell_type": "code",
   "execution_count": 44,
   "id": "39c7fd85",
   "metadata": {},
   "outputs": [
    {
     "name": "stdout",
     "output_type": "stream",
     "text": [
      "(None, 1)\n"
     ]
    }
   ],
   "source": [
    "cleanModel = tf.keras.Sequential()\n",
    "cleanModel.add(Input(shape = (5,)))\n",
    "cleanModel.add(Dense(10, activation = 'tanh'))\n",
    "cleanModel.add(Dense(5))\n",
    "cleanModel.add(Dense(1))\n",
    "print(cleanModel.output_shape)"
   ]
  },
  {
   "cell_type": "code",
   "execution_count": 45,
   "id": "cfac06e6",
   "metadata": {},
   "outputs": [
    {
     "name": "stdout",
     "output_type": "stream",
     "text": [
      "Model: \"sequential_3\"\n",
      "_________________________________________________________________\n",
      "Layer (type)                 Output Shape              Param #   \n",
      "=================================================================\n",
      "dense_9 (Dense)              (None, 10)                60        \n",
      "_________________________________________________________________\n",
      "dense_10 (Dense)             (None, 5)                 55        \n",
      "_________________________________________________________________\n",
      "dense_11 (Dense)             (None, 1)                 6         \n",
      "=================================================================\n",
      "Total params: 121\n",
      "Trainable params: 121\n",
      "Non-trainable params: 0\n",
      "_________________________________________________________________\n"
     ]
    }
   ],
   "source": [
    "cleanModel.summary()"
   ]
  },
  {
   "cell_type": "code",
   "execution_count": 46,
   "id": "ab90bb26",
   "metadata": {},
   "outputs": [
    {
     "name": "stdout",
     "output_type": "stream",
     "text": [
      "Train on 18000 samples, validate on 2000 samples\n",
      "Epoch 1/30\n",
      "18000/18000 [==============================] - 1s 40us/sample - loss: 0.1575 - val_loss: 0.0530\n",
      "Epoch 2/30\n",
      "18000/18000 [==============================] - 1s 29us/sample - loss: 0.0518 - val_loss: 0.0481\n",
      "Epoch 3/30\n",
      "18000/18000 [==============================] - 1s 29us/sample - loss: 0.0486 - val_loss: 0.0467\n",
      "Epoch 4/30\n",
      "18000/18000 [==============================] - 1s 29us/sample - loss: 0.0462 - val_loss: 0.0436\n",
      "Epoch 5/30\n",
      "18000/18000 [==============================] - 1s 28us/sample - loss: 0.0440 - val_loss: 0.0416\n",
      "Epoch 6/30\n",
      "18000/18000 [==============================] - 1s 29us/sample - loss: 0.0421 - val_loss: 0.0424\n",
      "Epoch 7/30\n",
      "18000/18000 [==============================] - 1s 28us/sample - loss: 0.0402 - val_loss: 0.0401\n",
      "Epoch 8/30\n",
      "18000/18000 [==============================] - 1s 30us/sample - loss: 0.0383 - val_loss: 0.0364\n",
      "Epoch 9/30\n",
      "18000/18000 [==============================] - 1s 28us/sample - loss: 0.0362 - val_loss: 0.0346\n",
      "Epoch 10/30\n",
      "18000/18000 [==============================] - 1s 30us/sample - loss: 0.0341 - val_loss: 0.0326\n",
      "Epoch 11/30\n",
      "18000/18000 [==============================] - 1s 28us/sample - loss: 0.0320 - val_loss: 0.0308\n",
      "Epoch 12/30\n",
      "18000/18000 [==============================] - 1s 28us/sample - loss: 0.0298 - val_loss: 0.0288\n",
      "Epoch 13/30\n",
      "18000/18000 [==============================] - 0s 28us/sample - loss: 0.0278 - val_loss: 0.0283\n",
      "Epoch 14/30\n",
      "18000/18000 [==============================] - 0s 28us/sample - loss: 0.0261 - val_loss: 0.0271\n",
      "Epoch 15/30\n",
      "18000/18000 [==============================] - 1s 28us/sample - loss: 0.0249 - val_loss: 0.0263\n",
      "Epoch 16/30\n",
      "18000/18000 [==============================] - 1s 28us/sample - loss: 0.0240 - val_loss: 0.0239\n",
      "Epoch 17/30\n",
      "18000/18000 [==============================] - 0s 27us/sample - loss: 0.0233 - val_loss: 0.0242\n",
      "Epoch 18/30\n",
      "18000/18000 [==============================] - 0s 28us/sample - loss: 0.0228 - val_loss: 0.0238\n",
      "Epoch 19/30\n",
      "18000/18000 [==============================] - 1s 28us/sample - loss: 0.0225 - val_loss: 0.0224\n",
      "Epoch 20/30\n",
      "18000/18000 [==============================] - 1s 28us/sample - loss: 0.0222 - val_loss: 0.0224\n",
      "Epoch 21/30\n",
      "18000/18000 [==============================] - 1s 28us/sample - loss: 0.0219 - val_loss: 0.0265\n",
      "Epoch 22/30\n",
      "18000/18000 [==============================] - 0s 28us/sample - loss: 0.0218 - val_loss: 0.0228\n",
      "Epoch 23/30\n",
      "18000/18000 [==============================] - 1s 28us/sample - loss: 0.0218 - val_loss: 0.0273\n",
      "Epoch 24/30\n",
      "18000/18000 [==============================] - 1s 31us/sample - loss: 0.0214 - val_loss: 0.0218\n",
      "Epoch 25/30\n",
      "18000/18000 [==============================] - 1s 31us/sample - loss: 0.0212 - val_loss: 0.0219\n",
      "Epoch 26/30\n",
      "18000/18000 [==============================] - 1s 29us/sample - loss: 0.0213 - val_loss: 0.0213\n",
      "Epoch 27/30\n",
      "18000/18000 [==============================] - 1s 29us/sample - loss: 0.0211 - val_loss: 0.0237\n",
      "Epoch 28/30\n",
      "18000/18000 [==============================] - 1s 29us/sample - loss: 0.0210 - val_loss: 0.0214\n",
      "Epoch 29/30\n",
      "18000/18000 [==============================] - 1s 28us/sample - loss: 0.0209 - val_loss: 0.0231\n",
      "Epoch 30/30\n",
      "18000/18000 [==============================] - 0s 28us/sample - loss: 0.0208 - val_loss: 0.0209\n"
     ]
    }
   ],
   "source": [
    "cleanModel.compile(optimizer ='rmsprop', loss = tf.keras.losses.MeanSquaredError())\n",
    "historyCl = cleanModel.fit(data, y, validation_split = 0.1, epochs = 30)"
   ]
  },
  {
   "cell_type": "code",
   "execution_count": 47,
   "id": "da423e90",
   "metadata": {},
   "outputs": [
    {
     "data": {
      "image/png": "[encoded data removed]",
      "text/plain": [
       "<Figure size 432x288 with 1 Axes>"
      ]
     },
     "metadata": {
      "needs_background": "light"
     },
     "output_type": "display_data"
    }
   ],
   "source": [
    "plt.plot(historyCl.history['loss'])\n",
    "plt.plot(historyCl.history['val_loss'])\n",
    "plt.title('model loss')\n",
    "plt.ylabel('loss')\n",
    "plt.xlabel('epoch')\n",
    "plt.legend(['train', 'val'], loc='upper left')\n",
    "plt.show()"
   ]
  },
  {
   "cell_type": "code",
   "execution_count": 48,
   "id": "363c2063",
   "metadata": {},
   "outputs": [
    {
     "name": "stdout",
     "output_type": "stream",
     "text": [
      "[[1.7642298]]\n",
      "1.6688720304003373\n"
     ]
    }
   ],
   "source": [
    "testingIndex = 15\n",
    "\n",
    "print(cleanModel.predict(np.reshape(data[testingIndex], (1,5))))\n",
    "print(y[testingIndex])"
   ]
  },
  {
   "cell_type": "code",
   "execution_count": 49,
   "id": "62c11dbf",
   "metadata": {},
   "outputs": [
    {
     "name": "stdout",
     "output_type": "stream",
     "text": [
      "Model: \"sequential_4\"\n",
      "_________________________________________________________________\n",
      "Layer (type)                 Output Shape              Param #   \n",
      "=================================================================\n",
      "dense_12 (Dense)             (None, 10)                60        \n",
      "_________________________________________________________________\n",
      "dense_13 (Dense)             (None, 5)                 55        \n",
      "_________________________________________________________________\n",
      "dense_14 (Dense)             (None, 1)                 6         \n",
      "=================================================================\n",
      "Total params: 121\n",
      "Trainable params: 121\n",
      "Non-trainable params: 0\n",
      "_________________________________________________________________\n"
     ]
    }
   ],
   "source": [
    "noisyModel = tf.keras.Sequential()\n",
    "noisyModel.add(Input(shape = (5,)))\n",
    "noisyModel.add(Dense(10, activation = 'tanh'))\n",
    "noisyModel.add(Dense(5))\n",
    "noisyModel.add(Dense(1))\n",
    "noisyModel.summary()"
   ]
  },
  {
   "cell_type": "code",
   "execution_count": 50,
   "id": "aa471f2c",
   "metadata": {},
   "outputs": [
    {
     "name": "stdout",
     "output_type": "stream",
     "text": [
      "Train on 18000 samples, validate on 2000 samples\n",
      "Epoch 1/30\n",
      "18000/18000 [==============================] - 1s 40us/sample - loss: 0.1096 - val_loss: 0.0580\n",
      "Epoch 2/30\n",
      "18000/18000 [==============================] - 1s 29us/sample - loss: 0.0605 - val_loss: 0.0580\n",
      "Epoch 3/30\n",
      "18000/18000 [==============================] - 0s 27us/sample - loss: 0.0587 - val_loss: 0.0546\n",
      "Epoch 4/30\n",
      "18000/18000 [==============================] - 1s 28us/sample - loss: 0.0570 - val_loss: 0.0539\n",
      "Epoch 5/30\n",
      "18000/18000 [==============================] - 1s 30us/sample - loss: 0.0555 - val_loss: 0.0535\n",
      "Epoch 6/30\n",
      "18000/18000 [==============================] - 1s 29us/sample - loss: 0.0544 - val_loss: 0.0515\n",
      "Epoch 7/30\n",
      "18000/18000 [==============================] - 1s 29us/sample - loss: 0.0530 - val_loss: 0.0492\n",
      "Epoch 8/30\n",
      "18000/18000 [==============================] - 0s 28us/sample - loss: 0.0513 - val_loss: 0.0482\n",
      "Epoch 9/30\n",
      "18000/18000 [==============================] - 1s 30us/sample - loss: 0.0495 - val_loss: 0.0458\n",
      "Epoch 10/30\n",
      "18000/18000 [==============================] - 0s 28us/sample - loss: 0.0476 - val_loss: 0.0435\n",
      "Epoch 11/30\n",
      "18000/18000 [==============================] - 1s 28us/sample - loss: 0.0455 - val_loss: 0.0423\n",
      "Epoch 12/30\n",
      "18000/18000 [==============================] - 0s 28us/sample - loss: 0.0436 - val_loss: 0.0480\n",
      "Epoch 13/30\n",
      "18000/18000 [==============================] - 1s 28us/sample - loss: 0.0419 - val_loss: 0.0387\n",
      "Epoch 14/30\n",
      "18000/18000 [==============================] - 0s 27us/sample - loss: 0.0407 - val_loss: 0.0396\n",
      "Epoch 15/30\n",
      "18000/18000 [==============================] - 1s 30us/sample - loss: 0.0397 - val_loss: 0.0370\n",
      "Epoch 16/30\n",
      "18000/18000 [==============================] - 1s 32us/sample - loss: 0.0392 - val_loss: 0.0367\n",
      "Epoch 17/30\n",
      "18000/18000 [==============================] - 1s 31us/sample - loss: 0.0388 - val_loss: 0.0399\n",
      "Epoch 18/30\n",
      "18000/18000 [==============================] - 1s 29us/sample - loss: 0.0386 - val_loss: 0.0441\n",
      "Epoch 19/30\n",
      "18000/18000 [==============================] - 1s 30us/sample - loss: 0.0385 - val_loss: 0.0359\n",
      "Epoch 20/30\n",
      "18000/18000 [==============================] - 1s 31us/sample - loss: 0.0383 - val_loss: 0.0391\n",
      "Epoch 21/30\n",
      "18000/18000 [==============================] - 1s 28us/sample - loss: 0.0381 - val_loss: 0.0390\n",
      "Epoch 22/30\n",
      "18000/18000 [==============================] - 1s 33us/sample - loss: 0.0380 - val_loss: 0.0397\n",
      "Epoch 23/30\n",
      "18000/18000 [==============================] - 1s 31us/sample - loss: 0.0378 - val_loss: 0.0392\n",
      "Epoch 24/30\n",
      "18000/18000 [==============================] - 1s 32us/sample - loss: 0.0378 - val_loss: 0.0354\n",
      "Epoch 25/30\n",
      "18000/18000 [==============================] - 1s 35us/sample - loss: 0.0374 - val_loss: 0.0427\n",
      "Epoch 26/30\n",
      "18000/18000 [==============================] - 1s 28us/sample - loss: 0.0373 - val_loss: 0.0394\n",
      "Epoch 27/30\n",
      "18000/18000 [==============================] - 1s 29us/sample - loss: 0.0372 - val_loss: 0.0350\n",
      "Epoch 28/30\n",
      "18000/18000 [==============================] - 1s 29us/sample - loss: 0.0366 - val_loss: 0.0386\n",
      "Epoch 29/30\n",
      "18000/18000 [==============================] - 1s 28us/sample - loss: 0.0362 - val_loss: 0.0337\n",
      "Epoch 30/30\n",
      "18000/18000 [==============================] - 1s 28us/sample - loss: 0.0355 - val_loss: 0.0328\n"
     ]
    }
   ],
   "source": [
    "noisyModel.compile(optimizer ='rmsprop', loss = tf.keras.losses.MeanSquaredError())\n",
    "historyN = noisyModel.fit(noisyData, y, validation_split = 0.1, epochs = 30)"
   ]
  },
  {
   "cell_type": "code",
   "execution_count": 51,
   "id": "60f64ffb",
   "metadata": {},
   "outputs": [
    {
     "data": {
      "image/png": "[encoded data removed]",
      "text/plain": [
       "<Figure size 432x288 with 1 Axes>"
      ]
     },
     "metadata": {
      "needs_background": "light"
     },
     "output_type": "display_data"
    }
   ],
   "source": [
    "plt.plot(historyN.history['loss'])\n",
    "plt.plot(historyN.history['val_loss'])\n",
    "plt.title('model loss')\n",
    "plt.ylabel('loss')\n",
    "plt.xlabel('epoch')\n",
    "plt.legend(['train', 'val'], loc='upper left')\n",
    "plt.show()"
   ]
  },
  {
   "cell_type": "code",
   "execution_count": 52,
   "id": "12cae145",
   "metadata": {},
   "outputs": [
    {
     "data": {
      "image/png": "[encoded data removed]",
      "text/plain": [
       "<Figure size 432x288 with 1 Axes>"
      ]
     },
     "metadata": {
      "needs_background": "light"
     },
     "output_type": "display_data"
    }
   ],
   "source": [
    "plt.plot(historyN.history['loss'])\n",
    "plt.plot(historyCl.history['loss'])\n",
    "plt.title('model losses')\n",
    "plt.ylabel('loss')\n",
    "plt.xlabel('epoch')\n",
    "plt.legend(['Noisy', 'Clean'], loc='upper left')\n",
    "plt.show()"
   ]
  },
  {
   "cell_type": "code",
   "execution_count": 53,
   "id": "ac1795cb",
   "metadata": {},
   "outputs": [
    {
     "data": {
      "text/plain": [
       "0.45174533958957763"
      ]
     },
     "execution_count": 53,
     "metadata": {},
     "output_type": "execute_result"
    }
   ],
   "source": [
    "np.std(y)"
   ]
  },
  {
   "cell_type": "code",
   "execution_count": null,
   "id": "eaf82d7d",
   "metadata": {},
   "outputs": [],
   "source": []
  }
 ],
 "metadata": {
  "kernelspec": {
   "display_name": "Python 3",
   "language": "python",
   "name": "python3"
  },
  "language_info": {
   "codemirror_mode": {
    "name": "ipython",
    "version": 3
   },
   "file_extension": ".py",
   "mimetype": "text/x-python",
   "name": "python",
   "nbconvert_exporter": "python",
   "pygments_lexer": "ipython3",
   "version": "3.6.9"
  }
 },
 "nbformat": 4,
 "nbformat_minor": 5
}
